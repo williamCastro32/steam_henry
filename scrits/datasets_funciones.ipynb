{
 "cells": [
  {
   "cell_type": "code",
   "execution_count": 19,
   "metadata": {},
   "outputs": [],
   "source": [
    "#Librerias a usar\n",
    "import pandas as pd\n",
    "import gzip"
   ]
  },
  {
   "cell_type": "markdown",
   "metadata": {},
   "source": [
    "Primera función"
   ]
  },
  {
   "cell_type": "markdown",
   "metadata": {},
   "source": [
    "se habren los datasets que ya se les realizo ETL y se guardaron como csv"
   ]
  },
  {
   "cell_type": "code",
   "execution_count": 20,
   "metadata": {},
   "outputs": [],
   "source": [
    "steam_games = pd.read_csv('../datasets/steam_games.csv')\n"
   ]
  },
  {
   "cell_type": "code",
   "execution_count": 21,
   "metadata": {},
   "outputs": [],
   "source": [
    "with gzip.open('../datasets/user_items.csv.gz', 'rt', encoding='utf-8') as f:\n",
    "    user_items = pd.read_csv(f)"
   ]
  },
  {
   "cell_type": "markdown",
   "metadata": {},
   "source": [
    "Se seleccionan solo las columnas que se van a usar para realizar la funcion"
   ]
  },
  {
   "cell_type": "code",
   "execution_count": 22,
   "metadata": {},
   "outputs": [
    {
     "data": {
      "text/html": [
       "<div>\n",
       "<style scoped>\n",
       "    .dataframe tbody tr th:only-of-type {\n",
       "        vertical-align: middle;\n",
       "    }\n",
       "\n",
       "    .dataframe tbody tr th {\n",
       "        vertical-align: top;\n",
       "    }\n",
       "\n",
       "    .dataframe thead th {\n",
       "        text-align: right;\n",
       "    }\n",
       "</style>\n",
       "<table border=\"1\" class=\"dataframe\">\n",
       "  <thead>\n",
       "    <tr style=\"text-align: right;\">\n",
       "      <th></th>\n",
       "      <th>publisher</th>\n",
       "      <th>genres</th>\n",
       "      <th>app_name</th>\n",
       "      <th>title</th>\n",
       "      <th>url</th>\n",
       "      <th>release_date</th>\n",
       "      <th>reviews_url</th>\n",
       "      <th>specs</th>\n",
       "      <th>price</th>\n",
       "      <th>early_access</th>\n",
       "      <th>id</th>\n",
       "      <th>developer</th>\n",
       "      <th>year</th>\n",
       "    </tr>\n",
       "  </thead>\n",
       "  <tbody>\n",
       "  </tbody>\n",
       "</table>\n",
       "</div>"
      ],
      "text/plain": [
       "Empty DataFrame\n",
       "Columns: [publisher, genres, app_name, title, url, release_date, reviews_url, specs, price, early_access, id, developer, year]\n",
       "Index: []"
      ]
     },
     "execution_count": 22,
     "metadata": {},
     "output_type": "execute_result"
    }
   ],
   "source": [
    "steam_games.head(0)"
   ]
  },
  {
   "cell_type": "code",
   "execution_count": 23,
   "metadata": {},
   "outputs": [],
   "source": [
    "steam_games_f1 = steam_games[['id', 'genres', 'year']]"
   ]
  },
  {
   "cell_type": "code",
   "execution_count": 24,
   "metadata": {},
   "outputs": [
    {
     "data": {
      "text/html": [
       "<div>\n",
       "<style scoped>\n",
       "    .dataframe tbody tr th:only-of-type {\n",
       "        vertical-align: middle;\n",
       "    }\n",
       "\n",
       "    .dataframe tbody tr th {\n",
       "        vertical-align: top;\n",
       "    }\n",
       "\n",
       "    .dataframe thead th {\n",
       "        text-align: right;\n",
       "    }\n",
       "</style>\n",
       "<table border=\"1\" class=\"dataframe\">\n",
       "  <thead>\n",
       "    <tr style=\"text-align: right;\">\n",
       "      <th></th>\n",
       "      <th>id</th>\n",
       "      <th>genres</th>\n",
       "      <th>year</th>\n",
       "    </tr>\n",
       "  </thead>\n",
       "  <tbody>\n",
       "    <tr>\n",
       "      <th>0</th>\n",
       "      <td>761140</td>\n",
       "      <td>['Action', 'Casual', 'Indie', 'Simulation', 'S...</td>\n",
       "      <td>2018</td>\n",
       "    </tr>\n",
       "    <tr>\n",
       "      <th>1</th>\n",
       "      <td>643980</td>\n",
       "      <td>['Free to Play', 'Indie', 'RPG', 'Strategy']</td>\n",
       "      <td>2018</td>\n",
       "    </tr>\n",
       "  </tbody>\n",
       "</table>\n",
       "</div>"
      ],
      "text/plain": [
       "       id                                             genres  year\n",
       "0  761140  ['Action', 'Casual', 'Indie', 'Simulation', 'S...  2018\n",
       "1  643980       ['Free to Play', 'Indie', 'RPG', 'Strategy']  2018"
      ]
     },
     "execution_count": 24,
     "metadata": {},
     "output_type": "execute_result"
    }
   ],
   "source": [
    "steam_games_f1.head(2)"
   ]
  },
  {
   "cell_type": "code",
   "execution_count": 25,
   "metadata": {},
   "outputs": [
    {
     "data": {
      "text/html": [
       "<div>\n",
       "<style scoped>\n",
       "    .dataframe tbody tr th:only-of-type {\n",
       "        vertical-align: middle;\n",
       "    }\n",
       "\n",
       "    .dataframe tbody tr th {\n",
       "        vertical-align: top;\n",
       "    }\n",
       "\n",
       "    .dataframe thead th {\n",
       "        text-align: right;\n",
       "    }\n",
       "</style>\n",
       "<table border=\"1\" class=\"dataframe\">\n",
       "  <thead>\n",
       "    <tr style=\"text-align: right;\">\n",
       "      <th></th>\n",
       "      <th>user_id</th>\n",
       "      <th>items_count</th>\n",
       "      <th>steam_id</th>\n",
       "      <th>user_url</th>\n",
       "      <th>item_id</th>\n",
       "      <th>item_name</th>\n",
       "      <th>playtime_forever</th>\n",
       "      <th>playtime_2weeks</th>\n",
       "    </tr>\n",
       "  </thead>\n",
       "  <tbody>\n",
       "  </tbody>\n",
       "</table>\n",
       "</div>"
      ],
      "text/plain": [
       "Empty DataFrame\n",
       "Columns: [user_id, items_count, steam_id, user_url, item_id, item_name, playtime_forever, playtime_2weeks]\n",
       "Index: []"
      ]
     },
     "execution_count": 25,
     "metadata": {},
     "output_type": "execute_result"
    }
   ],
   "source": [
    "user_items.head(0)"
   ]
  },
  {
   "cell_type": "code",
   "execution_count": 26,
   "metadata": {},
   "outputs": [],
   "source": [
    "user_items_f1 = user_items[['item_id', 'playtime_forever']]"
   ]
  },
  {
   "cell_type": "code",
   "execution_count": 27,
   "metadata": {},
   "outputs": [
    {
     "data": {
      "text/plain": [
       "(5153209, 8)"
      ]
     },
     "execution_count": 27,
     "metadata": {},
     "output_type": "execute_result"
    }
   ],
   "source": [
    "user_items.shape"
   ]
  },
  {
   "cell_type": "code",
   "execution_count": 28,
   "metadata": {},
   "outputs": [
    {
     "data": {
      "text/html": [
       "<div>\n",
       "<style scoped>\n",
       "    .dataframe tbody tr th:only-of-type {\n",
       "        vertical-align: middle;\n",
       "    }\n",
       "\n",
       "    .dataframe tbody tr th {\n",
       "        vertical-align: top;\n",
       "    }\n",
       "\n",
       "    .dataframe thead th {\n",
       "        text-align: right;\n",
       "    }\n",
       "</style>\n",
       "<table border=\"1\" class=\"dataframe\">\n",
       "  <thead>\n",
       "    <tr style=\"text-align: right;\">\n",
       "      <th></th>\n",
       "      <th>item_id</th>\n",
       "      <th>playtime_forever</th>\n",
       "    </tr>\n",
       "  </thead>\n",
       "  <tbody>\n",
       "    <tr>\n",
       "      <th>0</th>\n",
       "      <td>10</td>\n",
       "      <td>6.0</td>\n",
       "    </tr>\n",
       "    <tr>\n",
       "      <th>1</th>\n",
       "      <td>20</td>\n",
       "      <td>0.0</td>\n",
       "    </tr>\n",
       "    <tr>\n",
       "      <th>2</th>\n",
       "      <td>30</td>\n",
       "      <td>7.0</td>\n",
       "    </tr>\n",
       "    <tr>\n",
       "      <th>3</th>\n",
       "      <td>40</td>\n",
       "      <td>0.0</td>\n",
       "    </tr>\n",
       "    <tr>\n",
       "      <th>4</th>\n",
       "      <td>50</td>\n",
       "      <td>0.0</td>\n",
       "    </tr>\n",
       "  </tbody>\n",
       "</table>\n",
       "</div>"
      ],
      "text/plain": [
       "   item_id  playtime_forever\n",
       "0       10               6.0\n",
       "1       20               0.0\n",
       "2       30               7.0\n",
       "3       40               0.0\n",
       "4       50               0.0"
      ]
     },
     "execution_count": 28,
     "metadata": {},
     "output_type": "execute_result"
    }
   ],
   "source": [
    "user_items_f1.head()"
   ]
  },
  {
   "cell_type": "code",
   "execution_count": 29,
   "metadata": {},
   "outputs": [],
   "source": [
    "# 1. Fusionar los DataFrames\n",
    "merged_df = pd.merge(steam_games_f1, user_items_f1, left_on='id', right_on='item_id')"
   ]
  },
  {
   "cell_type": "code",
   "execution_count": 30,
   "metadata": {},
   "outputs": [
    {
     "data": {
      "text/html": [
       "<div>\n",
       "<style scoped>\n",
       "    .dataframe tbody tr th:only-of-type {\n",
       "        vertical-align: middle;\n",
       "    }\n",
       "\n",
       "    .dataframe tbody tr th {\n",
       "        vertical-align: top;\n",
       "    }\n",
       "\n",
       "    .dataframe thead th {\n",
       "        text-align: right;\n",
       "    }\n",
       "</style>\n",
       "<table border=\"1\" class=\"dataframe\">\n",
       "  <thead>\n",
       "    <tr style=\"text-align: right;\">\n",
       "      <th></th>\n",
       "      <th>id</th>\n",
       "      <th>genres</th>\n",
       "      <th>year</th>\n",
       "      <th>item_id</th>\n",
       "      <th>playtime_forever</th>\n",
       "    </tr>\n",
       "  </thead>\n",
       "  <tbody>\n",
       "    <tr>\n",
       "      <th>0</th>\n",
       "      <td>282010</td>\n",
       "      <td>['Action', 'Indie', 'Racing']</td>\n",
       "      <td>1997</td>\n",
       "      <td>282010</td>\n",
       "      <td>5.0</td>\n",
       "    </tr>\n",
       "    <tr>\n",
       "      <th>1</th>\n",
       "      <td>282010</td>\n",
       "      <td>['Action', 'Indie', 'Racing']</td>\n",
       "      <td>1997</td>\n",
       "      <td>282010</td>\n",
       "      <td>0.0</td>\n",
       "    </tr>\n",
       "    <tr>\n",
       "      <th>2</th>\n",
       "      <td>282010</td>\n",
       "      <td>['Action', 'Indie', 'Racing']</td>\n",
       "      <td>1997</td>\n",
       "      <td>282010</td>\n",
       "      <td>0.0</td>\n",
       "    </tr>\n",
       "    <tr>\n",
       "      <th>3</th>\n",
       "      <td>282010</td>\n",
       "      <td>['Action', 'Indie', 'Racing']</td>\n",
       "      <td>1997</td>\n",
       "      <td>282010</td>\n",
       "      <td>0.0</td>\n",
       "    </tr>\n",
       "    <tr>\n",
       "      <th>4</th>\n",
       "      <td>282010</td>\n",
       "      <td>['Action', 'Indie', 'Racing']</td>\n",
       "      <td>1997</td>\n",
       "      <td>282010</td>\n",
       "      <td>13.0</td>\n",
       "    </tr>\n",
       "  </tbody>\n",
       "</table>\n",
       "</div>"
      ],
      "text/plain": [
       "       id                         genres  year  item_id  playtime_forever\n",
       "0  282010  ['Action', 'Indie', 'Racing']  1997   282010               5.0\n",
       "1  282010  ['Action', 'Indie', 'Racing']  1997   282010               0.0\n",
       "2  282010  ['Action', 'Indie', 'Racing']  1997   282010               0.0\n",
       "3  282010  ['Action', 'Indie', 'Racing']  1997   282010               0.0\n",
       "4  282010  ['Action', 'Indie', 'Racing']  1997   282010              13.0"
      ]
     },
     "execution_count": 30,
     "metadata": {},
     "output_type": "execute_result"
    }
   ],
   "source": [
    "merged_df.head()"
   ]
  },
  {
   "cell_type": "markdown",
   "metadata": {},
   "source": [
    "ya fusionados los dos df se guadan con csv para que sean consumidos por la función "
   ]
  },
  {
   "cell_type": "code",
   "execution_count": 31,
   "metadata": {},
   "outputs": [],
   "source": [
    "merged_df.to_csv('../datasets/data_funcion1.csv',index=False)"
   ]
  },
  {
   "cell_type": "code",
   "execution_count": 32,
   "metadata": {},
   "outputs": [],
   "source": [
    "with gzip.open('../datasets/data_funcion1.csv.gz', 'wb') as f:\n",
    "    merged_df.to_csv(f, index=False, encoding='utf-8')"
   ]
  },
  {
   "cell_type": "code",
   "execution_count": 33,
   "metadata": {},
   "outputs": [],
   "source": [
    "def PlayTimeGenre(genero: str):\n",
    "    '''Esta función debe devolver año con mas horas jugadas para dicho género.\n",
    "    Ejemplo de retorno: {\"Año de lanzamiento con más horas jugadas para Género X\" : 2013}'''\n",
    "    \n",
    "    # Leer el DataFrame desde el archivo CSV\n",
    "    merged_df = pd.read_csv('../datasets/data_funcion1.csv.gz')\n",
    "\n",
    "    # Capitalizar la primera letra del género\n",
    "    genero = genero.capitalize()\n",
    "\n",
    "    # Filtrar el DataFrame para obtener solo las filas relacionadas con el género específico\n",
    "    filtro_df = merged_df[merged_df['genres'].apply(lambda x: genero in x)]\n",
    "\n",
    "    if not filtro_df.empty:\n",
    "        # Agrupar por año sumando las horas jugadas para cada año\n",
    "        grouped_df = filtro_df.groupby('year')['playtime_forever'].sum().reset_index()\n",
    "\n",
    "        # Encontrar el año con la mayor cantidad de horas jugadas\n",
    "        max_year = grouped_df.loc[grouped_df['playtime_forever'].idxmax()]['year']\n",
    "\n",
    "        return {\"Año de lanzamiento con más horas jugadas para Género {}:\".format(genero): int(max_year)}\n",
    "    else:\n",
    "        return {\"Género {} no encontrado en el DataFrame.\".format(genero): None}\n"
   ]
  },
  {
   "cell_type": "code",
   "execution_count": 34,
   "metadata": {},
   "outputs": [
    {
     "name": "stdout",
     "output_type": "stream",
     "text": [
      "{'Año de lanzamiento con más horas jugadas para Género Action:': 2012}\n"
     ]
    }
   ],
   "source": [
    "\n",
    "# Ejemplo de uso\n",
    "resultado = PlayTimeGenre('ACTION')\n",
    "print(resultado)"
   ]
  },
  {
   "cell_type": "markdown",
   "metadata": {},
   "source": [
    "funcion 2"
   ]
  },
  {
   "cell_type": "markdown",
   "metadata": {},
   "source": [
    "son casi los mismos pasos de la funcion 1, se le agrea la columna user_id "
   ]
  },
  {
   "cell_type": "code",
   "execution_count": 35,
   "metadata": {},
   "outputs": [],
   "source": [
    "steam_games_f2 = steam_games[['id', 'genres', 'year',]]"
   ]
  },
  {
   "cell_type": "code",
   "execution_count": 36,
   "metadata": {},
   "outputs": [],
   "source": [
    "user_items_f2 = user_items[['item_id', 'playtime_forever', 'user_id']]"
   ]
  },
  {
   "cell_type": "code",
   "execution_count": 37,
   "metadata": {},
   "outputs": [],
   "source": [
    "merged_df2 = pd.merge(steam_games_f2, user_items_f2, left_on='id', right_on='item_id')"
   ]
  },
  {
   "cell_type": "code",
   "execution_count": 38,
   "metadata": {},
   "outputs": [
    {
     "data": {
      "text/html": [
       "<div>\n",
       "<style scoped>\n",
       "    .dataframe tbody tr th:only-of-type {\n",
       "        vertical-align: middle;\n",
       "    }\n",
       "\n",
       "    .dataframe tbody tr th {\n",
       "        vertical-align: top;\n",
       "    }\n",
       "\n",
       "    .dataframe thead th {\n",
       "        text-align: right;\n",
       "    }\n",
       "</style>\n",
       "<table border=\"1\" class=\"dataframe\">\n",
       "  <thead>\n",
       "    <tr style=\"text-align: right;\">\n",
       "      <th></th>\n",
       "      <th>id</th>\n",
       "      <th>genres</th>\n",
       "      <th>year</th>\n",
       "      <th>item_id</th>\n",
       "      <th>playtime_forever</th>\n",
       "      <th>user_id</th>\n",
       "    </tr>\n",
       "  </thead>\n",
       "  <tbody>\n",
       "    <tr>\n",
       "      <th>0</th>\n",
       "      <td>282010</td>\n",
       "      <td>['Action', 'Indie', 'Racing']</td>\n",
       "      <td>1997</td>\n",
       "      <td>282010</td>\n",
       "      <td>5.0</td>\n",
       "      <td>UTNerd24</td>\n",
       "    </tr>\n",
       "    <tr>\n",
       "      <th>1</th>\n",
       "      <td>282010</td>\n",
       "      <td>['Action', 'Indie', 'Racing']</td>\n",
       "      <td>1997</td>\n",
       "      <td>282010</td>\n",
       "      <td>0.0</td>\n",
       "      <td>I_DID_911_JUST_SAYING</td>\n",
       "    </tr>\n",
       "    <tr>\n",
       "      <th>2</th>\n",
       "      <td>282010</td>\n",
       "      <td>['Action', 'Indie', 'Racing']</td>\n",
       "      <td>1997</td>\n",
       "      <td>282010</td>\n",
       "      <td>0.0</td>\n",
       "      <td>76561197962104795</td>\n",
       "    </tr>\n",
       "    <tr>\n",
       "      <th>3</th>\n",
       "      <td>282010</td>\n",
       "      <td>['Action', 'Indie', 'Racing']</td>\n",
       "      <td>1997</td>\n",
       "      <td>282010</td>\n",
       "      <td>0.0</td>\n",
       "      <td>r3ap3r78</td>\n",
       "    </tr>\n",
       "    <tr>\n",
       "      <th>4</th>\n",
       "      <td>282010</td>\n",
       "      <td>['Action', 'Indie', 'Racing']</td>\n",
       "      <td>1997</td>\n",
       "      <td>282010</td>\n",
       "      <td>13.0</td>\n",
       "      <td>saint556</td>\n",
       "    </tr>\n",
       "  </tbody>\n",
       "</table>\n",
       "</div>"
      ],
      "text/plain": [
       "       id                         genres  year  item_id  playtime_forever  \\\n",
       "0  282010  ['Action', 'Indie', 'Racing']  1997   282010               5.0   \n",
       "1  282010  ['Action', 'Indie', 'Racing']  1997   282010               0.0   \n",
       "2  282010  ['Action', 'Indie', 'Racing']  1997   282010               0.0   \n",
       "3  282010  ['Action', 'Indie', 'Racing']  1997   282010               0.0   \n",
       "4  282010  ['Action', 'Indie', 'Racing']  1997   282010              13.0   \n",
       "\n",
       "                 user_id  \n",
       "0               UTNerd24  \n",
       "1  I_DID_911_JUST_SAYING  \n",
       "2      76561197962104795  \n",
       "3               r3ap3r78  \n",
       "4               saint556  "
      ]
     },
     "execution_count": 38,
     "metadata": {},
     "output_type": "execute_result"
    }
   ],
   "source": [
    "merged_df2.head()"
   ]
  },
  {
   "cell_type": "code",
   "execution_count": 39,
   "metadata": {},
   "outputs": [],
   "source": [
    "with gzip.open('../datasets/data_funcion2.csv.gz', 'wb') as f:\n",
    "    merged_df2.to_csv(f, index=False, encoding='utf-8')"
   ]
  },
  {
   "cell_type": "code",
   "execution_count": 40,
   "metadata": {},
   "outputs": [],
   "source": [
    "def UserForGenre(genero: str):\n",
    "\n",
    "    '''Esta función devuelve el usuario que acumula más horas jugadas para el género dado y \n",
    "        una lista de la acumulación de horas jugadas por año.\n",
    "        Ejemplo de retorno: {\"Usuario con más horas jugadas para Género X\" : us213ndjss09sdf, \n",
    "        \"Horas jugadas\":[{Año: 2013, Horas: 203}, {Año: 2012, Horas: 100}, {Año: 2011, Horas: 23}]}'''\n",
    "\n",
    "    # Leer el DataFrame desde el archivo CSV\n",
    "    merged_df2 = pd.read_csv('../datasets/data_funcion2.csv.gz')\n",
    "\n",
    "    genero = genero.capitalize()\n",
    "    # Paso 1: Filtrar el DataFrame para el género dado\n",
    "    filtered_df = merged_df2[merged_df2['genres'].apply(lambda x: genero in x)]\n",
    "\n",
    "    if not filtered_df.empty:\n",
    "        # Paso 2: Encontrar el usuario con más horas jugadas\n",
    "        user_with_max_hours = filtered_df.groupby('user_id')['playtime_forever'].sum().idxmax()\n",
    "\n",
    "        # Paso 3: Crear una lista de acumulación de horas jugadas por año\n",
    "        grouped_df = filtered_df.groupby(['year', 'user_id'])['playtime_forever'].sum().reset_index()\n",
    "        hours_accumulation = [{'Año': int(year), 'Horas': int(hours)} for year, hours in grouped_df.groupby('year')['playtime_forever'].max().items()]\n",
    "\n",
    "        # Paso 4: Retornar el resultado en el formato deseado\n",
    "        result = {\"Usuario con más horas jugadas para Género {}\".format(genero): user_with_max_hours,\n",
    "                  \"Horas jugadas\": hours_accumulation}\n",
    "        return result\n",
    "    else:\n",
    "        return {\"Género {} no encontrado en el DataFrame.\".format(genero): None}"
   ]
  },
  {
   "cell_type": "code",
   "execution_count": 41,
   "metadata": {},
   "outputs": [
    {
     "name": "stdout",
     "output_type": "stream",
     "text": [
      "{'Usuario con más horas jugadas para Género Action': 'Sp3ctre', 'Horas jugadas': [{'Año': 1983, 'Horas': 331}, {'Año': 1984, 'Horas': 118}, {'Año': 1988, 'Horas': 7678}, {'Año': 1989, 'Horas': 494}, {'Año': 1990, 'Horas': 1424}, {'Año': 1991, 'Horas': 761}, {'Año': 1992, 'Horas': 605}, {'Año': 1993, 'Horas': 22001}, {'Año': 1994, 'Horas': 5539}, {'Año': 1995, 'Horas': 10430}, {'Año': 1996, 'Horas': 7859}, {'Año': 1997, 'Horas': 9214}, {'Año': 1998, 'Horas': 76899}, {'Año': 1999, 'Horas': 150212}, {'Año': 2000, 'Horas': 356381}, {'Año': 2001, 'Horas': 150918}, {'Año': 2002, 'Horas': 27561}, {'Año': 2003, 'Horas': 532817}, {'Año': 2004, 'Horas': 529351}, {'Año': 2005, 'Horas': 81113}, {'Año': 2006, 'Horas': 723682}, {'Año': 2007, 'Horas': 112794}, {'Año': 2008, 'Horas': 231030}, {'Año': 2009, 'Horas': 396428}, {'Año': 2010, 'Horas': 393408}, {'Año': 2011, 'Horas': 416405}, {'Año': 2012, 'Horas': 689709}, {'Año': 2013, 'Horas': 409562}, {'Año': 2014, 'Horas': 358880}, {'Año': 2015, 'Horas': 474267}, {'Año': 2016, 'Horas': 439787}, {'Año': 2017, 'Horas': 212280}, {'Año': 2018, 'Horas': 342}]}\n"
     ]
    }
   ],
   "source": [
    "# Ejemplo de uso\n",
    "genero_ejemplo = 'action'  # Puedes cambiar esto al género que desees\n",
    "resultado = UserForGenre(genero_ejemplo)\n",
    "print(resultado)"
   ]
  },
  {
   "cell_type": "markdown",
   "metadata": {},
   "source": [
    "Función 3"
   ]
  },
  {
   "cell_type": "markdown",
   "metadata": {},
   "source": [
    "importamos los csv a usar "
   ]
  },
  {
   "cell_type": "code",
   "execution_count": 42,
   "metadata": {},
   "outputs": [],
   "source": [
    "user_reviews = pd.read_csv('../datasets/user_review.csv')"
   ]
  },
  {
   "cell_type": "code",
   "execution_count": 43,
   "metadata": {},
   "outputs": [],
   "source": [
    "steam_games = pd.read_csv('../datasets/steam_games.csv')"
   ]
  },
  {
   "cell_type": "markdown",
   "metadata": {},
   "source": [
    "Seleccionamos las columnas que vamos a usar"
   ]
  },
  {
   "cell_type": "code",
   "execution_count": 44,
   "metadata": {},
   "outputs": [],
   "source": [
    "steam_games = steam_games[['id','title']]"
   ]
  },
  {
   "cell_type": "markdown",
   "metadata": {},
   "source": [
    "combinamos los df"
   ]
  },
  {
   "cell_type": "code",
   "execution_count": 45,
   "metadata": {},
   "outputs": [],
   "source": [
    "merged_df3 = pd.merge(steam_games, user_reviews, left_on='id', right_on='item_id')"
   ]
  },
  {
   "cell_type": "code",
   "execution_count": 46,
   "metadata": {},
   "outputs": [],
   "source": [
    "merged_df3 = merged_df3[['title', 'year', 'recommend', 'sentiment_analysis']]"
   ]
  },
  {
   "cell_type": "markdown",
   "metadata": {},
   "source": [
    "Guardamos el df solo con la informacion necesaria para la consulta"
   ]
  },
  {
   "cell_type": "code",
   "execution_count": 47,
   "metadata": {},
   "outputs": [],
   "source": [
    "with gzip.open('../datasets/data_funcion3_4.csv.gz', 'wb') as f:\n",
    "    merged_df3.to_csv(f, index=False, encoding='utf-8')\n",
    "    "
   ]
  },
  {
   "cell_type": "code",
   "execution_count": 48,
   "metadata": {},
   "outputs": [],
   "source": [
    "def UsersRecommend(anio: int):\n",
    "\n",
    "    '''Esta función el top 3 de juegos MÁS recomendados por usuarios para el año dado. (reviews.recommend = \n",
    "    True y comentarios positivos/neutrales) Ejemplo de retorno: [{\"Puesto 1\" : X}, {\"Puesto 2\" : Y},{\"Puesto 3\" : Z}]'''\n",
    "\n",
    "    user_reviews = pd.read_csv('../datasets/data_funcion3_4.csv.gz')\n",
    "   \n",
    "    # Paso 1: Filtrar el DataFrame para el año dado\n",
    "    reviews_anio = user_reviews[user_reviews['year'] == anio]\n",
    "    \n",
    "    if reviews_anio.empty:\n",
    "        return {\"mensaje\": \"No hay revisiones para el año proporcionado.\"}\n",
    "\n",
    "    # Paso 2: Filtrar para incluir solo revisiones recomendadas y con sentimiento positivo o neutral\n",
    "    relevant_reviews = reviews_anio[(reviews_anio['recommend'] == True) & (reviews_anio['sentiment_analysis'].isin([1, 2]))]\n",
    "\n",
    "    if relevant_reviews.empty:\n",
    "        return {\"mensaje\": \"No hay revisiones recomendadas y con sentimiento positivo o neutral para el año proporcionado.\"}\n",
    "\n",
    "    # Paso 3: Contar la cantidad de recomendaciones para cada juego\n",
    "    game_recommendation_counts = relevant_reviews.groupby('title')['recommend'].count().reset_index()\n",
    "\n",
    "    # Paso 4: Ordenar los juegos en función de la cantidad de recomendaciones\n",
    "    top_games = game_recommendation_counts.sort_values(by='recommend', ascending=False)\n",
    "\n",
    "    # Paso 5: Seleccionar los tres juegos principales\n",
    "    top_3_games = top_games.head(3)\n",
    "\n",
    "    # Paso 6: Crear el formato de retorno deseado\n",
    "    result = [{\"Puesto {}: {}\".format(i + 1, title)} for i, title in enumerate(top_3_games['title'][:3])]\n",
    "\n",
    "    return result"
   ]
  },
  {
   "cell_type": "code",
   "execution_count": 49,
   "metadata": {},
   "outputs": [
    {
     "name": "stdout",
     "output_type": "stream",
     "text": [
      "[{'Puesto 1: Team Fortress 2'}, {'Puesto 2: Terraria'}, {'Puesto 3: Left 4 Dead 2'}]\n"
     ]
    }
   ],
   "source": [
    "# Ejemplo de uso\n",
    "resultado = UsersRecommend(2012)\n",
    "print(resultado)"
   ]
  },
  {
   "cell_type": "markdown",
   "metadata": {},
   "source": [
    "Funcion 4"
   ]
  },
  {
   "cell_type": "markdown",
   "metadata": {},
   "source": [
    "Esta fncion es muy similar a la anterior, asi que la copiaremos a adaptaremos a lo que queremos "
   ]
  },
  {
   "cell_type": "code",
   "execution_count": 50,
   "metadata": {},
   "outputs": [],
   "source": [
    "def UsersNotRecommend(anio: int):\n",
    "\n",
    "    '''Esta función el top 3 de juegos MENOS recomendados por usuarios para el año dado. (reviews.recommend = False y comentarios negativos)    \n",
    "    Ejemplo de retorno: [{\"Puesto 1\" : X}, {\"Puesto 2\" : Y},{\"Puesto 3\" : Z}]'''\n",
    "\n",
    "    user_reviews = pd.read_csv('../datasets/data_funcion3_4.csv.gz')\n",
    "   \n",
    "    # Paso 1: Filtrar el DataFrame para el año dado\n",
    "    reviews_anio = user_reviews[user_reviews['year'] == anio]\n",
    "    \n",
    "    if reviews_anio.empty:\n",
    "        return {\"mensaje\": \"No hay revisiones para el año proporcionado.\"}\n",
    "\n",
    "    # Paso 2: Filtrar para incluir solo revisiones no recomendadas y con sentimiento negativos\n",
    "    relevant_reviews = reviews_anio[(reviews_anio['recommend'] == False) & (reviews_anio['sentiment_analysis'] == 0)]\n",
    "\n",
    "    if relevant_reviews.empty:\n",
    "        return {\"mensaje\": \"No hay revisiones no recomendadas y con sentimiento negativos para el año proporcionado.\"}\n",
    "\n",
    "    # Paso 3: Contar la cantidad de recomendaciones negativas para cada juego\n",
    "    game_recommendation_counts = relevant_reviews.groupby('title')['recommend'].count().reset_index()\n",
    "\n",
    "    # Paso 4: Ordenar los juegos en función de la cantidad de recomendaciones\n",
    "    top_games = game_recommendation_counts.sort_values(by='recommend', ascending=False)\n",
    "\n",
    "    # Paso 5: Seleccionar los tres juegos principales\n",
    "    top_3_games = top_games.head(3)\n",
    "\n",
    "    # Paso 6: Crear el formato de retorno deseado\n",
    "    result = [{\"Puesto {}: {}\".format(i + 1, title)} for i, title in enumerate(top_3_games['title'][:3])]\n",
    "\n",
    "    return result"
   ]
  },
  {
   "cell_type": "code",
   "execution_count": 51,
   "metadata": {},
   "outputs": [
    {
     "name": "stdout",
     "output_type": "stream",
     "text": [
      "[{'Puesto 1: Team Fortress 2'}, {'Puesto 2: Tactical Intervention'}, {'Puesto 3: Counter-Strike: Global Offensive'}]\n"
     ]
    }
   ],
   "source": [
    "resultado = UsersNotRecommend(2013)\n",
    "print(resultado)"
   ]
  },
  {
   "cell_type": "markdown",
   "metadata": {},
   "source": [
    "Funcion 5"
   ]
  },
  {
   "cell_type": "code",
   "execution_count": 124,
   "metadata": {},
   "outputs": [],
   "source": [
    "steam_games = pd.read_csv('../datasets/steam_games.csv')"
   ]
  },
  {
   "cell_type": "code",
   "execution_count": 125,
   "metadata": {},
   "outputs": [],
   "source": [
    "user_reviews = pd.read_csv('../datasets/user_review.csv')"
   ]
  },
  {
   "cell_type": "code",
   "execution_count": 126,
   "metadata": {},
   "outputs": [
    {
     "data": {
      "text/html": [
       "<div>\n",
       "<style scoped>\n",
       "    .dataframe tbody tr th:only-of-type {\n",
       "        vertical-align: middle;\n",
       "    }\n",
       "\n",
       "    .dataframe tbody tr th {\n",
       "        vertical-align: top;\n",
       "    }\n",
       "\n",
       "    .dataframe thead th {\n",
       "        text-align: right;\n",
       "    }\n",
       "</style>\n",
       "<table border=\"1\" class=\"dataframe\">\n",
       "  <thead>\n",
       "    <tr style=\"text-align: right;\">\n",
       "      <th></th>\n",
       "      <th>publisher</th>\n",
       "      <th>genres</th>\n",
       "      <th>app_name</th>\n",
       "      <th>title</th>\n",
       "      <th>url</th>\n",
       "      <th>release_date</th>\n",
       "      <th>reviews_url</th>\n",
       "      <th>specs</th>\n",
       "      <th>price</th>\n",
       "      <th>early_access</th>\n",
       "      <th>id</th>\n",
       "      <th>developer</th>\n",
       "      <th>year</th>\n",
       "    </tr>\n",
       "  </thead>\n",
       "  <tbody>\n",
       "  </tbody>\n",
       "</table>\n",
       "</div>"
      ],
      "text/plain": [
       "Empty DataFrame\n",
       "Columns: [publisher, genres, app_name, title, url, release_date, reviews_url, specs, price, early_access, id, developer, year]\n",
       "Index: []"
      ]
     },
     "execution_count": 126,
     "metadata": {},
     "output_type": "execute_result"
    }
   ],
   "source": [
    "steam_games.head(0)"
   ]
  },
  {
   "cell_type": "code",
   "execution_count": 127,
   "metadata": {},
   "outputs": [
    {
     "data": {
      "text/html": [
       "<div>\n",
       "<style scoped>\n",
       "    .dataframe tbody tr th:only-of-type {\n",
       "        vertical-align: middle;\n",
       "    }\n",
       "\n",
       "    .dataframe tbody tr th {\n",
       "        vertical-align: top;\n",
       "    }\n",
       "\n",
       "    .dataframe thead th {\n",
       "        text-align: right;\n",
       "    }\n",
       "</style>\n",
       "<table border=\"1\" class=\"dataframe\">\n",
       "  <thead>\n",
       "    <tr style=\"text-align: right;\">\n",
       "      <th></th>\n",
       "      <th>user_id</th>\n",
       "      <th>posted</th>\n",
       "      <th>item_id</th>\n",
       "      <th>recommend</th>\n",
       "      <th>sentiment_analysis</th>\n",
       "      <th>year</th>\n",
       "    </tr>\n",
       "  </thead>\n",
       "  <tbody>\n",
       "  </tbody>\n",
       "</table>\n",
       "</div>"
      ],
      "text/plain": [
       "Empty DataFrame\n",
       "Columns: [user_id, posted, item_id, recommend, sentiment_analysis, year]\n",
       "Index: []"
      ]
     },
     "execution_count": 127,
     "metadata": {},
     "output_type": "execute_result"
    }
   ],
   "source": [
    "user_reviews.head(0)"
   ]
  },
  {
   "cell_type": "code",
   "execution_count": 128,
   "metadata": {},
   "outputs": [],
   "source": [
    "user_reviews = user_reviews[['item_id', 'user_id', 'sentiment_analysis']]"
   ]
  },
  {
   "cell_type": "code",
   "execution_count": 129,
   "metadata": {},
   "outputs": [],
   "source": [
    "steam_games = steam_games[['id', 'year']]"
   ]
  },
  {
   "cell_type": "code",
   "execution_count": 130,
   "metadata": {},
   "outputs": [],
   "source": [
    "merge_df5 = pd.merge(user_reviews, steam_games, left_on='item_id', right_on='id')"
   ]
  },
  {
   "cell_type": "markdown",
   "metadata": {},
   "source": [
    "Guardamos en csv"
   ]
  },
  {
   "cell_type": "code",
   "execution_count": 145,
   "metadata": {},
   "outputs": [
    {
     "data": {
      "text/html": [
       "<div>\n",
       "<style scoped>\n",
       "    .dataframe tbody tr th:only-of-type {\n",
       "        vertical-align: middle;\n",
       "    }\n",
       "\n",
       "    .dataframe tbody tr th {\n",
       "        vertical-align: top;\n",
       "    }\n",
       "\n",
       "    .dataframe thead th {\n",
       "        text-align: right;\n",
       "    }\n",
       "</style>\n",
       "<table border=\"1\" class=\"dataframe\">\n",
       "  <thead>\n",
       "    <tr style=\"text-align: right;\">\n",
       "      <th></th>\n",
       "      <th>item_id</th>\n",
       "      <th>user_id</th>\n",
       "      <th>sentiment_analysis</th>\n",
       "      <th>id</th>\n",
       "      <th>year</th>\n",
       "    </tr>\n",
       "  </thead>\n",
       "  <tbody>\n",
       "    <tr>\n",
       "      <th>0</th>\n",
       "      <td>1250</td>\n",
       "      <td>76561197970982479</td>\n",
       "      <td>2</td>\n",
       "      <td>1250</td>\n",
       "      <td>2009</td>\n",
       "    </tr>\n",
       "    <tr>\n",
       "      <th>1</th>\n",
       "      <td>1250</td>\n",
       "      <td>76561197970982479</td>\n",
       "      <td>2</td>\n",
       "      <td>1250</td>\n",
       "      <td>2009</td>\n",
       "    </tr>\n",
       "    <tr>\n",
       "      <th>2</th>\n",
       "      <td>1250</td>\n",
       "      <td>76561197970982479</td>\n",
       "      <td>2</td>\n",
       "      <td>1250</td>\n",
       "      <td>2009</td>\n",
       "    </tr>\n",
       "    <tr>\n",
       "      <th>3</th>\n",
       "      <td>1250</td>\n",
       "      <td>VVillis</td>\n",
       "      <td>2</td>\n",
       "      <td>1250</td>\n",
       "      <td>2009</td>\n",
       "    </tr>\n",
       "    <tr>\n",
       "      <th>4</th>\n",
       "      <td>1250</td>\n",
       "      <td>jarrodtrim</td>\n",
       "      <td>0</td>\n",
       "      <td>1250</td>\n",
       "      <td>2009</td>\n",
       "    </tr>\n",
       "  </tbody>\n",
       "</table>\n",
       "</div>"
      ],
      "text/plain": [
       "   item_id            user_id  sentiment_analysis    id  year\n",
       "0     1250  76561197970982479                   2  1250  2009\n",
       "1     1250  76561197970982479                   2  1250  2009\n",
       "2     1250  76561197970982479                   2  1250  2009\n",
       "3     1250            VVillis                   2  1250  2009\n",
       "4     1250         jarrodtrim                   0  1250  2009"
      ]
     },
     "execution_count": 145,
     "metadata": {},
     "output_type": "execute_result"
    }
   ],
   "source": [
    "merge_df5.head()"
   ]
  },
  {
   "cell_type": "code",
   "execution_count": 79,
   "metadata": {},
   "outputs": [],
   "source": [
    "# Convertir la columna sentiment_analysis a tipo de datos cadena (str)\n",
    "merge_df5['sentiment_analysis'] = merge_df5['sentiment_analysis'].astype(str)"
   ]
  },
  {
   "cell_type": "code",
   "execution_count": 131,
   "metadata": {},
   "outputs": [],
   "source": [
    "with gzip.open('../datasets/data_funcion5.csv.gz', 'wb') as f:\n",
    "    merge_df5.to_csv(f, index=False, encoding='utf-8')"
   ]
  },
  {
   "cell_type": "code",
   "execution_count": 148,
   "metadata": {},
   "outputs": [],
   "source": [
    "def sentiment_analysis(anio: int):\n",
    "    '''Esta funcion según el año de lanzamiento, se devuelve una lista con la cantidad de \n",
    "    registros de reseñas de usuarios que se encuentren categorizados con un análisis de \n",
    "    sentimiento.Ejemplo de retorno: {Negative = 182, Neutral = 120, Positive = 278}'''\n",
    "\n",
    "    merge_df5 = pd.read_csv('../datasets/data_funcion5.csv.gz')\n",
    "\n",
    "    # Filtrar el DataFrame por el año proporcionado\n",
    "    relevant_reviews = merge_df5[merge_df5['year'] == anio]\n",
    "\n",
    "    # Contar la cantidad de registros para cada categoría de análisis de sentimiento\n",
    "    sentiment_counts = relevant_reviews.groupby('sentiment_analysis').size()\n",
    "\n",
    "     # Convertir los índices a tipos de datos estándar (int)\n",
    "    sentiment_counts.index = sentiment_counts.index.astype(int)\n",
    "\n",
    "    # Crear el diccionario de resultados\n",
    "    result = {\n",
    "        'Negative': int(sentiment_counts.get(0, 2)),\n",
    "        'Neutral': int(sentiment_counts.get(1, 2)),\n",
    "        'Positive': int(sentiment_counts.get(2, 3))\n",
    "    }\n",
    "    \n",
    "\n",
    "    return  result"
   ]
  },
  {
   "cell_type": "code",
   "execution_count": 149,
   "metadata": {},
   "outputs": [
    {
     "name": "stdout",
     "output_type": "stream",
     "text": [
      "{'Negative': 958, 'Neutral': 1239, 'Positive': 4084}\n"
     ]
    }
   ],
   "source": [
    "resultado = sentiment_analysis(2013)\n",
    "print(resultado)"
   ]
  }
 ],
 "metadata": {
  "kernelspec": {
   "display_name": "Python 3",
   "language": "python",
   "name": "python3"
  },
  "language_info": {
   "codemirror_mode": {
    "name": "ipython",
    "version": 3
   },
   "file_extension": ".py",
   "mimetype": "text/x-python",
   "name": "python",
   "nbconvert_exporter": "python",
   "pygments_lexer": "ipython3",
   "version": "3.11.6"
  }
 },
 "nbformat": 4,
 "nbformat_minor": 2
}
